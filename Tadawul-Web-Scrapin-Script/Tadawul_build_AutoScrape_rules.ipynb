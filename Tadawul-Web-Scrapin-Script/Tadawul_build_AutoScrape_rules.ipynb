{
 "cells": [
  {
   "cell_type": "code",
   "execution_count": 6,
   "metadata": {},
   "outputs": [],
   "source": [
    "from autoscraper import AutoScraper\n",
    "import pandas as pd"
   ]
  },
  {
   "cell_type": "code",
   "execution_count": 7,
   "metadata": {},
   "outputs": [
    {
     "name": "stdout",
     "output_type": "stream",
     "text": [
      "https://www.saudiexchange.sa/wps/portal/tadawul/market-participants/issuers/issuers-directory/company-details/!ut/p/z1/04_Sj9CPykssy0xPLMnMz0vMAfIjo8zi_Tx8nD0MLIy83V1DjA0czVx8nYP8PI0MDAz0I4EKzBEKDEJDLYEKjJ0DA11MjQzcTfW99KPSc_KTIGZllJQUWKkaqBqUJKYklpfmqBroRyXn5xYk5lUGV-Ym5QMVGRoZGumHEzK1IDsop6zSUREAMAhKnQ!!/\n"
     ]
    }
   ],
   "source": [
    "url ='https://www.saudiexchange.sa/wps/portal/tadawul/market-participants/issuers/issuers-directory/company-details/!ut/p/z1/04_Sj9CPykssy0xPLMnMz0vMAfIjo8zi_Tx8nD0MLIy83V1DjA0czVx8nYP8PI0MDAz0I4EKzBEKDEJDLYEKjJ0DA11MjQzcTfW99KPSc_KTIGZllJQUWKkaqBqUJKYklpfmqBroRyXn5xYk5lUGV-Ym5QMVGRoZGumHEzK1IDsop6zSUREAMAhKnQ!!/'\n",
    "print(url)"
   ]
  },
  {
   "cell_type": "code",
   "execution_count": 8,
   "metadata": {},
   "outputs": [],
   "source": [
    "wanted_list=['1212','Astra Industrial Group ','Astra Industrial Group','Industrials','Capital Goods',\n",
    "            '38.35','1.25','Astra Industrial Group Announces Calling Candidature for Board Members Elections'\n",
    "            ,'1443/05/05   09/12/2021 08:02:28']"
   ]
  },
  {
   "cell_type": "code",
   "execution_count": 9,
   "metadata": {},
   "outputs": [],
   "source": [
    "scraper=AutoScraper()\n",
    "result=scraper.build(url,wanted_list)"
   ]
  },
  {
   "cell_type": "code",
   "execution_count": 10,
   "metadata": {},
   "outputs": [
    {
     "data": {
      "text/plain": [
       "['1212',\n",
       " 'Astra Industrial Group',\n",
       " 'ASTRA INDUSTRIAL',\n",
       " 'Industrials',\n",
       " 'Main Market',\n",
       " 'Capital Goods',\n",
       " '38.35',\n",
       " '38.50',\n",
       " '51.90\\r\\n\\t\\t\\t\\t\\t\\t\\r\\n\\t\\t\\t\\t\\t\\t\\r\\n\\t\\t\\t\\t\\t\\t2021/06/28',\n",
       " '1.25\\r\\n              \\t\\t\\t\\t\\t\\r\\n              \\t\\t\\t\\t           \\t\\t\\t\\t\\r\\n               \\t\\t\\t\\t(\\r\\n              \\t\\t\\t\\t\\t\\r\\n              \\t\\t\\t\\t\\t\\r\\n              \\t\\t\\t\\t\\t\\t3.37%\\r\\n              \\t\\t\\t\\t\\t\\r\\n              \\t\\t\\t\\t\\r\\n               \\t\\t\\t\\t\\r\\n               \\t\\t\\t\\t)',\n",
       " '37.10',\n",
       " '37.50',\n",
       " '38.65',\n",
       " '37.15',\n",
       " '1,190',\n",
       " '392',\n",
       " '465,928',\n",
       " '17,644,383.75',\n",
       " '0.75',\n",
       " '0.5',\n",
       " '1.75',\n",
       " '1.50',\n",
       " '1.25',\n",
       " '0.50',\n",
       " 'Astra Industrial Group Announces Calling Candidature for Board Members Elections',\n",
       " 'Astra Industrial Group  announces its Interim Financial Results for the Period Ending on 2021-09-30 ( Nine Months )',\n",
       " 'Astra Industrial Group Announces Resignation and Appointment Audit Committee Member',\n",
       " 'Astra Industrial Group  announces its Interim Financial Results for the Period Ending on 2021-06-30 ( Six Months )',\n",
       " 'AIG announces that one of its subsidiaries Tabuk Pharmaceutical has signed a contract with Moderna to commercialize Moderna’s COVID-19 Vaccine and its variants in Saudi Arabia',\n",
       " '1443/05/05   09/12/2021 08:02:28',\n",
       " '1443/03/28   03/11/2021 08:05:43',\n",
       " '1443/01/21   29/08/2021 08:03:59',\n",
       " '1443/01/01   09/08/2021 08:08:35',\n",
       " '1442/11/03   13/06/2021 08:02:01']"
      ]
     },
     "execution_count": 10,
     "metadata": {},
     "output_type": "execute_result"
    }
   ],
   "source": [
    "result"
   ]
  },
  {
   "cell_type": "code",
   "execution_count": 12,
   "metadata": {},
   "outputs": [
    {
     "name": "stdout",
     "output_type": "stream",
     "text": [
      "{'rule_om8b': ['1212', '1212', '1212', '1212', '1212'], 'rule_wo5s': ['1212', '1212', '1212', '1212', '1212'], 'rule_usu2': ['1212', '1212', '1212', '1212', '1212'], 'rule_jtxv': ['1212', '1212', '1212', '1212', '1212'], 'rule_pz0g': ['1212', '1212', '1212', '1212', '1212'], 'rule_155d': ['1212'], 'rule_jszw': ['Astra Industrial Group'], 'rule_n1w1': ['ASTRA INDUSTRIAL', 'Industrials', 'Main Market'], 'rule_oiaw': ['Capital Goods'], 'rule_yhj3': ['38.35', '38.35', '38.50', '51.90\\r\\n\\t\\t\\t\\t\\t\\t\\r\\n\\t\\t\\t\\t\\t\\t\\r\\n\\t\\t\\t\\t\\t\\t2021/06/28'], 'rule_3ako': ['38.35', '38.35', '51.90\\r\\n\\t\\t\\t\\t\\t\\t\\r\\n\\t\\t\\t\\t\\t\\t\\r\\n\\t\\t\\t\\t\\t\\t2021/06/28'], 'rule_eepp': ['38.35', '1.25\\r\\n              \\t\\t\\t\\t\\t\\r\\n              \\t\\t\\t\\t           \\t\\t\\t\\t\\r\\n               \\t\\t\\t\\t(\\r\\n              \\t\\t\\t\\t\\t\\r\\n              \\t\\t\\t\\t\\t\\r\\n              \\t\\t\\t\\t\\t\\t3.37%\\r\\n              \\t\\t\\t\\t\\t\\r\\n              \\t\\t\\t\\t\\r\\n               \\t\\t\\t\\t\\r\\n               \\t\\t\\t\\t)', '37.10', '37.50', '38.65', '37.15', '1,190', '392', '465,928', '17,644,383.75'], 'rule_m1gk': ['0.75', '0.5', '0.5', '0.75', '1.75', '1.75', '1.75', '1.50', '1.25', '0.50'], 'rule_omzy': ['Astra Industrial Group Announces Calling Candidature for Board Members Elections', 'Astra Industrial Group  announces its Interim Financial Results for the Period Ending on 2021-09-30 ( Nine Months )', 'Astra Industrial Group Announces Resignation and Appointment Audit Committee Member', 'Astra Industrial Group  announces its Interim Financial Results for the Period Ending on 2021-06-30 ( Six Months )', 'AIG announces that one of its subsidiaries Tabuk Pharmaceutical has signed a contract with Moderna to commercialize Moderna’s COVID-19 Vaccine and its variants in Saudi Arabia'], 'rule_6vis': ['1443/05/05   09/12/2021 08:02:28', '1443/03/28   03/11/2021 08:05:43', '1443/01/21   29/08/2021 08:03:59', '1443/01/01   09/08/2021 08:08:35', '1442/11/03   13/06/2021 08:02:01']}\n"
     ]
    }
   ],
   "source": [
    "data = scraper.get_result_similar(url,grouped=True)\n",
    "print(data)"
   ]
  },
  {
   "cell_type": "code",
   "execution_count": 13,
   "metadata": {},
   "outputs": [
    {
     "name": "stdout",
     "output_type": "stream",
     "text": [
      "rule_usu2\n"
     ]
    }
   ],
   "source": [
    "keys = list(data.keys())\n",
    "print(keys[2])"
   ]
  },
  {
   "cell_type": "code",
   "execution_count": 14,
   "metadata": {},
   "outputs": [
    {
     "data": {
      "text/plain": [
       "'rule_jszw'"
      ]
     },
     "execution_count": 14,
     "metadata": {},
     "output_type": "execute_result"
    }
   ],
   "source": [
    "str(keys[keys.index('rule_jszw')])"
   ]
  },
  {
   "cell_type": "code",
   "execution_count": 23,
   "metadata": {},
   "outputs": [
    {
     "data": {
      "text/plain": [
       "14"
      ]
     },
     "execution_count": 23,
     "metadata": {},
     "output_type": "execute_result"
    }
   ],
   "source": [
    "keys.index('rule_6vis')"
   ]
  },
  {
   "cell_type": "code",
   "execution_count": 24,
   "metadata": {},
   "outputs": [],
   "source": [
    "scraper.set_rule_aliases({str(keys[0]):'Company_Symbol',\\\n",
    "                          str(keys[6]):'Company_Name' ,\\\n",
    "                          str(keys[7]):'Trading_Name' ,\\\n",
    "                          str(keys[8]):'Industry Group' ,\\\n",
    "                          str(keys[9]):'Price' ,\\\n",
    "                         str(keys[11]):'Change' ,\\\n",
    "                         str(keys[13]):'Announcements',\n",
    "                         str(keys[14]):'Announcements_Date'\\\n",
    "                         \n",
    "                         }\n",
    "                        )"
   ]
  },
  {
   "cell_type": "code",
   "execution_count": 25,
   "metadata": {},
   "outputs": [],
   "source": [
    "scraper.save(\"Tadawul_Web_Scraper.json\")"
   ]
  },
  {
   "cell_type": "code",
   "execution_count": 26,
   "metadata": {},
   "outputs": [],
   "source": [
    "scraper_2 = AutoScraper()\n",
    "scraper_2.load('Tadawul_Web_Scraper.json')"
   ]
  },
  {
   "cell_type": "code",
   "execution_count": 27,
   "metadata": {},
   "outputs": [],
   "source": [
    "data = scraper_2.get_result_similar(url, group_by_alias=True)"
   ]
  },
  {
   "cell_type": "code",
   "execution_count": 33,
   "metadata": {},
   "outputs": [
    {
     "data": {
      "text/plain": [
       "'1'"
      ]
     },
     "execution_count": 33,
     "metadata": {},
     "output_type": "execute_result"
    }
   ],
   "source": [
    "data"
   ]
  },
  {
   "cell_type": "code",
   "execution_count": null,
   "metadata": {},
   "outputs": [],
   "source": []
  }
 ],
 "metadata": {
  "kernelspec": {
   "display_name": "Python 3",
   "language": "python",
   "name": "python3"
  },
  "language_info": {
   "codemirror_mode": {
    "name": "ipython",
    "version": 3
   },
   "file_extension": ".py",
   "mimetype": "text/x-python",
   "name": "python",
   "nbconvert_exporter": "python",
   "pygments_lexer": "ipython3",
   "version": "3.8.3"
  }
 },
 "nbformat": 4,
 "nbformat_minor": 5
}
